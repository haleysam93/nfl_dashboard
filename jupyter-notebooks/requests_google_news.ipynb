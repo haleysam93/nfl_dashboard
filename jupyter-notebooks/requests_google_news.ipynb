{
 "cells": [
  {
   "cell_type": "code",
   "execution_count": 27,
   "metadata": {
    "collapsed": true
   },
   "outputs": [],
   "source": [
    "import requests\n",
    "from datetime import date, timedelta"
   ]
  },
  {
   "cell_type": "code",
   "execution_count": 29,
   "metadata": {},
   "outputs": [
    {
     "data": {
      "text/plain": [
       "'2018-11-25'"
      ]
     },
     "execution_count": 29,
     "metadata": {},
     "output_type": "execute_result"
    }
   ],
   "source": [
    "two_days_ago = (date.today() - timedelta(2)).strftime('%Y-%m-%d')"
   ]
  },
  {
   "cell_type": "code",
   "execution_count": 2,
   "metadata": {
    "collapsed": true
   },
   "outputs": [],
   "source": [
    "GNEWS_API_KEY = '0a1bc2f716d1480b9f01431a2ea0e296'"
   ]
  },
  {
   "cell_type": "code",
   "execution_count": 3,
   "metadata": {
    "collapsed": true
   },
   "outputs": [],
   "source": [
    "news_url_all = 'https://newsapi.org/v2/everything'\n",
    "news_url_top = 'https://newsapi.org/v2/top-headlines'"
   ]
  },
  {
   "cell_type": "code",
   "execution_count": 23,
   "metadata": {},
   "outputs": [],
   "source": [
    "PLAYER_NAME = 'Drew Brees'\n",
    "search_key = PLAYER_NAME\n",
    "player_params_top = {'q':search_key, 'apiKey':GNEWS_API_KEY} #, 'country':'us'}\n",
    "player_news_top = requests.get(news_url_top, params=player_params_top)"
   ]
  },
  {
   "cell_type": "code",
   "execution_count": 24,
   "metadata": {},
   "outputs": [
    {
     "data": {
      "text/plain": [
       "200"
      ]
     },
     "execution_count": 24,
     "metadata": {},
     "output_type": "execute_result"
    }
   ],
   "source": [
    "player_news_top.status_code"
   ]
  },
  {
   "cell_type": "code",
   "execution_count": 21,
   "metadata": {},
   "outputs": [
    {
     "data": {
      "text/plain": [
       "'https://newsapi.org/v2/top-headlines?q=Leonard+Fournette+Fantasy&apiKey=0a1bc2f716d1480b9f01431a2ea0e296'"
      ]
     },
     "execution_count": 21,
     "metadata": {},
     "output_type": "execute_result"
    }
   ],
   "source": [
    "player_news_top.url"
   ]
  },
  {
   "cell_type": "code",
   "execution_count": null,
   "metadata": {
    "collapsed": true
   },
   "outputs": [],
   "source": [
    "PLAYER_NAMES = ['Golden Tate', 'Leonard Fournette', 'Aaron Rodgers', 'Josh Adams', 'Nelson Agholar']"
   ]
  },
  {
   "cell_type": "code",
   "execution_count": 40,
   "metadata": {
    "collapsed": true
   },
   "outputs": [],
   "source": [
    "def search_player_news(player_names):\n",
    "    \"\"\"Search for news for the players provided.\"\"\"\n",
    "    for player in player_names:\n",
    "        search_key = PLAYER_NAME + ' fantasy football'\n",
    "        player_params_all = {'q':search_key, 'from':two_days_ago, 'sortBy':'relevancy', 'apiKey':GNEWS_API_KEY}\n",
    "        player_news_all = requests.get(news_url_all, params=player_params_all)"
   ]
  },
  {
   "cell_type": "code",
   "execution_count": 41,
   "metadata": {},
   "outputs": [
    {
     "data": {
      "text/plain": [
       "{'articles': [{'author': 'AP',\n",
       "   'content': 'With the fantasy playoffs coming and the byes over, it’s time for your waiver wire approach to change. No longer are you stashing players for future impact. If you have a chance at the playoffs, you know your established starters. Unless injuries strike, you … [+3812 chars]',\n",
       "   'description': 'FANTASY PLAYS: Time to handcuff your RBs for playoffs',\n",
       "   'publishedAt': '2018-11-27T22:31:01Z',\n",
       "   'source': {'id': 'fox-sports', 'name': 'Fox Sports'},\n",
       "   'title': 'FANTASY PLAYS: Time to handcuff your RBs for playoffs',\n",
       "   'url': 'https://www.foxsports.com/nfl/story/fantasy-plays-time-to-handcuff-your-rbs-for-playoffs-112718',\n",
       "   'urlToImage': 'https://b.fssta.com/uploads/2018/11/db1693c87bd942069950977254525c73-1.vresize.1200.630.high.18.jpg'},\n",
       "  {'author': None,\n",
       "   'content': 'Most fantasy football regular season are coming to an end, but not every league has a trade deadline. Even if they do, it could be just before their fantasy playoffs begin. Some situations have really shaped up, making certain players more or less valuable fo… [+4237 chars]',\n",
       "   'description': 'Sporting News Fantasy Trade Value: Week 13 buy-low, sell-high targets, stock watch ahead fantasy playoffs Sporting News Most fantasy football regular season are coming to an end, but not every league has a trade deadline. Even if they do, it could be just bef…',\n",
       "   'publishedAt': '2018-11-27T19:24:00Z',\n",
       "   'source': {'id': None, 'name': 'Sportingnews.com'},\n",
       "   'title': 'Fantasy Trade Value: Week 13 buy-low, sell-high targets, stock watch ahead fantasy playoffs - Sporting News',\n",
       "   'url': 'http://www.sportingnews.com/us/fantasy/football/news/fantasy-trade-value-week-13-buy-low-sell-high-targets-stock-watch-fantasy-playoffs-sleepers-waiver-wire-pickups-schedule/13jq3ciiznyfq1a38sl0aqk9qe',\n",
       "   'urlToImage': 'http://images.performgroup.com/di/library/sporting_news/4d/31/edelman-ingram-112718-getty-ftr_1tz55mcayosll122kl7htiqexs.png?t=1448920031'},\n",
       "  {'author': 'ESPN.com',\n",
       "   'content': 'Each week of the NFL season, we search through each fantasy football position with an eye toward identifying widely available streaming options with positive matchups to help cover gaps in your starting lineup. Quarterback Jeff Driskel, Cincinnati Bengals Our… [+6862 chars]',\n",
       "   'description': 'Jim McCormick Special to ESPN.com Jim McCormick is a fantasy football and fantasy basketball analyst for ESPN.com. Follow on Twitter Each week of the NFL season, we search through each fantasy football position with an eye toward identifying widely available …',\n",
       "   'publishedAt': '2018-11-27T18:14:45Z',\n",
       "   'source': {'id': None, 'name': 'Espn.com'},\n",
       "   'title': 'Lions pass-catchers among top streaming options for Week 13',\n",
       "   'url': 'http://www.espn.com/fantasy/football/story/_/id/25392391/fantasy-football-lions-pass-catchers-top-streaming-options-week-13',\n",
       "   'urlToImage': 'http://a.espncdn.com/combiner/i?img=%2Fphoto%2F2018%2F1127%2Fr469610_1296x729_16%2D9.jpg'},\n",
       "  {'author': 'ESPN.com',\n",
       "   'content': \"The Fantasy 32 analyzes the NFL from a fantasy perspective, with at least one mention of each of the league's 32 teams. Though efficiency will be discussed plenty, the column will lean heavily on usage data, as volume is king (by far) in fantasy football. Use… [+18961 chars]\",\n",
       "   'description': 'Mike Clay ESPN Writer Close Fantasy football, NFL analyst for ESPN.com Member of Pro Football Writers of America Founding director of Pro Football Focus Fantasy 2013 FSTA award winner for most accurate preseason rankings Follow on Twitter The Fantasy 32 analy…',\n",
       "   'publishedAt': '2018-11-27T17:25:20Z',\n",
       "   'source': {'id': None, 'name': 'Espn.com'},\n",
       "   'title': 'Fantasy intel for all 32 NFL teams ahead of Week 13',\n",
       "   'url': 'http://www.espn.com/fantasy/football/story/_/id/25392120/fantasy-football-fantasy-intel-all-32-nfl-teams-ahead-week-13',\n",
       "   'urlToImage': 'http://a2.espncdn.com/combiner/i?img=%2Fphoto%2F2018%2F1127%2Fr469595_1296x729_16%2D9.jpg'},\n",
       "  {'author': 'The Associated Press',\n",
       "   'content': \"With the fantasy playoffs coming and the byes over, it's time for your waiver wire approach to change. No longer are you stashing players for future impact. If you have a chance at the playoffs, you know your established starters. Unless injuries strike, you … [+3886 chars]\",\n",
       "   'description': \"With the fantasy playoffs coming and the byes over, it's time for your waiver wire approach to change.  If you are not going to use mediocre or unreliable players like Frank Gore or Michael Crabtree, cut them loose.  What you need now is insurance at the all-…\",\n",
       "   'publishedAt': '2018-11-27T22:32:08Z',\n",
       "   'source': {'id': None, 'name': 'Yahoo.com'},\n",
       "   'title': 'FANTASY PLAYS: Time to handcuff your RBs for playoffs',\n",
       "   'url': 'https://sports.yahoo.com/fantasy-plays-time-handcuff-rbs-playoffs-223208217--nfl.html',\n",
       "   'urlToImage': 'https://s.yimg.com/uu/api/res/1.2/LCzVGd3dVP4tLwPoEmMJdw--~B/aD0zNTk7dz01MTI7c209MTthcHBpZD15dGFjaHlvbg--/http://media.zenfs.com/en_us/Sports/ap/201811251449533757228'},\n",
       "  {'author': '',\n",
       "   'content': 'Need Fantasy Football lineup advice? Talk to CBS Sports on your Google Assistant to get insights on the best sleepers and to help decide between players. Just start with, \"Hey Google, talk to CBS Sports.\" Monday was a rough day for Fantasy owners. And we\\'re n… [+5334 chars]',\n",
       "   'description': 'CBSSports.com Fantasy Football Week 13 Waiver Wire: Finding replacements as the playoffs loom CBSSports.com Need Fantasy Football lineup advice? Talk to CBS Sports on your Google Assistant to get insights on the best sleepers and to help decide between player…',\n",
       "   'publishedAt': '2018-11-27T15:38:00Z',\n",
       "   'source': {'id': None, 'name': 'Cbssports.com'},\n",
       "   'title': 'Fantasy Football Week 13 Waiver Wire: Finding replacements as the playoffs loom - CBSSports.com',\n",
       "   'url': 'https://www.cbssports.com/fantasy/football/news/fantasy-football-week-13-waiver-wire-finding-replacements-as-the-playoffs-loom/',\n",
       "   'urlToImage': 'https://sportshub.cbsistatic.com/i/r/2018/11/27/a6c10a69-da2a-4757-a319-45b49d556898/thumbnail/770x433/21a1c2faf8169d194b64b58449c00db8/ekeler.jpg'},\n",
       "  {'author': 'Dave Richard',\n",
       "   'content': 'Need Fantasy Football lineup advice? Talk to CBS Sports on your Google Assistant to get insights on the best sleepers and to help decide between players. Just start with, \"Hey Google, talk to CBS Sports.\" What is the Cut List? The Cut List is our baseline gui… [+2399 chars]',\n",
       "   'description': \"Sometimes it's hard to let go. And other times, it's not. Our Cut List shows you which players to drop in 10-, 12- and 14-team leagues.\",\n",
       "   'publishedAt': '2018-11-27T16:19:54Z',\n",
       "   'source': {'id': None, 'name': 'Cbssports.com'},\n",
       "   'title': 'Fantasy Football: Week 13 Cut List rankings to help you prepare for waiver-wire adds',\n",
       "   'url': 'https://www.cbssports.com/fantasy/football/news/fantasy-football-week-13-cut-list-rankings-to-help-you-prepare-for-waiver-wire-adds/',\n",
       "   'urlToImage': 'https://sportshub.cbsistatic.com/i/r/2018/09/20/0f1ff71e-7e24-4035-8300-09ce0e31e0c4/thumbnail/770x433/b95862f772e75cd83546b2cc48415dba/jarvis-landry-1400.jpg'},\n",
       "  {'author': 'JJ Zachariason',\n",
       "   'content': \"There's one player who, if hurt, would make my fantasy football season a lot tougher. One specific player. Melvin Gordon. Damn. Gordon's Week 12 injury -- one that will sideline him a few weeks -- came at the worst time for fantasy football managers, myself i… [+11642 chars]\",\n",
       "   'description': \"ESPN 15 Fantasy Football Transactions for Week 13 numberFire There's one player who, if hurt, would make my fantasy football season a lot tougher. One specific player. Melvin Gordon. Damn. Gordon's Week 12 injury -- one that will sideline him a few weeks -- c…\",\n",
       "   'publishedAt': '2018-11-27T14:19:44Z',\n",
       "   'source': {'id': None, 'name': 'Numberfire.com'},\n",
       "   'title': '15 Fantasy Football Transactions for Week 13 - numberFire',\n",
       "   'url': 'https://www.numberfire.com/nfl/news/23374/15-fantasy-football-transactions-for-week-13',\n",
       "   'urlToImage': 'https://d1tjohjvimcqgl.cloudfront.net/website/articles/23374_a2.jpg'},\n",
       "  {'author': 'Heath Cummings',\n",
       "   'content': 'Need Fantasy Football lineup advice? Talk to CBS Sports on your Google Assistant to get insights on the best sleepers and to help decide between players. Just start with, \"Hey Google, talk to CBS Sports.\" It\\'s time to view Baker Mayfield as a top-12 quarterba… [+8347 chars]',\n",
       "   'description': 'Heath Cummings takes a look at a great stretch from Baker Mayfield and the struggles of James Conner.',\n",
       "   'publishedAt': '2018-11-26T15:17:29Z',\n",
       "   'source': {'id': None, 'name': 'Cbssports.com'},\n",
       "   'title': 'Fantasy Football Believe It or Not: Buying Baker Mayfield and James Conner concern',\n",
       "   'url': 'https://www.cbssports.com/fantasy/football/news/fantasy-football-believe-it-or-not-buying-baker-mayfield-and-james-conner-concern/',\n",
       "   'urlToImage': 'https://sportshub.cbsistatic.com/i/r/2018/11/26/33e4ec62-6b7e-4e69-b898-77b986b329c6/thumbnail/770x433/97eb2e2c8beaf34316b22dc0542b23cc/baker-mayfield-10-1400.jpg'},\n",
       "  {'author': 'Jamey Eisenberg',\n",
       "   'content': 'Need Fantasy Football lineup advice? Talk to CBS Sports on your Google Assistant to get insights on the best sleepers and to help decide between players. Just start with, \"Hey Google, talk to CBS Sports.\" We don\\'t need a long introduction this week. Those ten… [+18460 chars]',\n",
       "   'description': \"Injuries slowed him earlier in the season, but we've seen star potential from Marlon Mack. Expect that to continue in Week 12, Jamey Eisenberg says.\",\n",
       "   'publishedAt': '2018-11-25T13:58:18Z',\n",
       "   'source': {'id': None, 'name': 'Cbssports.com'},\n",
       "   'title': \"Fantasy Football Start 'Em & Sit 'Em: Be thankful you have Marlon Mack in Week 12\",\n",
       "   'url': 'https://www.cbssports.com/fantasy/football/news/fantasy-football-start-em-sit-em-be-thankful-you-have-marlon-mack-in-week-12/',\n",
       "   'urlToImage': 'https://sportshub.cbsistatic.com/i/r/2018/08/29/5f124d61-91ae-4708-9914-078550b2f8ab/thumbnail/770x433/d95c996c99e930920a21922897d06139/marlon-mack.jpg'},\n",
       "  {'author': 'AP, AP',\n",
       "   'content': \"Carolina Panthers' Christian McCaffrey (22) runs for a long gain past Seattle Seahawks' Shaquill Griffin (26) and Barkevious Mingo (51) during the second half of an NFL football game in Charlotte, N.C., Sunday, Nov. 25, 2018. (AP Photo/Mike McCarn) (Photo: Th… [+4290 chars]\",\n",
       "   'description': 'FANTASY PLAYS: Time to handcuff your RBs for playoffs',\n",
       "   'publishedAt': '2018-11-27T22:30:53Z',\n",
       "   'source': {'id': 'usa-today', 'name': 'USA Today'},\n",
       "   'title': 'FANTASY PLAYS: Time to handcuff your RBs for playoffs',\n",
       "   'url': 'https://www.usatoday.com/story/sports/nfl/2018/11/27/fantasy-plays-time-to-handcuff-your-rbs-for-playoffs/38628919/?utm_source=google&utm_medium=amp&utm_campaign=speakable',\n",
       "   'urlToImage': 'https://www.gannett-cdn.com/-mm-/e2493cca3bae4ad989bc13a133db48b7fa7e6640/c=0-255-3694-2333/local/-/media/2018/11/27/USATODAY/usatsports/db1693c87bd942069950977254525c73.jpg?width=3200&height=1680&fit=crop'},\n",
       "  {'author': 'By SCOTT ENGEL, RotoExperts',\n",
       "   'content': \"Carolina Panthers' Christian McCaffrey (22) runs for a long gain past Seattle Seahawks' Shaquill Griffin (26) and Barkevious Mingo (51) during the second half of an NFL football game in Charlotte, N.C., Sunday, Nov. 25, 2018. less Carolina Panthers' Christian… [+4405 chars]\",\n",
       "   'description': \"With the fantasy playoffs coming and the byes over, it's time for your waiver wire approach to change. No longer are you stashing players for future impact. If you have a chance at the playoffs, you know your established starters. Unless injuries strike, you …\",\n",
       "   'publishedAt': '2018-11-27T23:39:38Z',\n",
       "   'source': {'id': None, 'name': 'Seattlepi.com'},\n",
       "   'title': 'FANTASY PLAYS: Time to handcuff your RBs for playoffs',\n",
       "   'url': 'https://www.seattlepi.com/sports/article/FANTASY-PLAYS-Time-to-handcuff-your-RBs-for-13426268.php',\n",
       "   'urlToImage': 'https://s.hdnux.com/photos/77/11/63/16555236/9/rawImage.jpg'},\n",
       "  {'author': None,\n",
       "   'content': 'Blake Bortles hasn’t been cancelled yet, but he’s going on hiatus. Amidst a flurry of changes, the Jaguars announced Monday that former Brown Cody Kessler will get the ball when Jacksonville hosts division-rival Indianapolis in Week 13. Bortles had started 72… [+19225 chars]',\n",
       "   'description': \"Blake Bortles will be holding the clipboard for Cody Kessler in Week 13. Jesse Pantuosco discusses the impact of Bortles' benching in Tuesday's Dose.\",\n",
       "   'publishedAt': '2018-11-27T08:37:00Z',\n",
       "   'source': {'id': None, 'name': 'Rotoworld.com'},\n",
       "   'title': 'Football Daily Dose: Dose: Jags Bench Bortles',\n",
       "   'url': 'http://rotoworld.com/articles/nfl/84294/77/dose-jags-bench-bortles',\n",
       "   'urlToImage': 'http://www.rotoworld.com/images/photos/NFL/JAC/00NFL_Bortles1_300.jpg'},\n",
       "  {'author': 'Mike Sansone',\n",
       "   'content': 'At least for now, the Bears (8-3) hold the third seed in the NFC playoff race, 1½ games ahead of the Vikings in the NFC North. Theres a long way to go, but you cant blame Bears fans for starting to think about the playoffs. After all, it has been eight long y… [+7699 chars]',\n",
       "   'description': 'At least for now, the Bears (8-3) hold the third seed in the NFC playoff race, 1½ games ahead of the Vikings in the NFC North. There’s a long way to go, but you can’t blame Bears fans for starting to think about the playoffs. After all, it has been eight long…',\n",
       "   'publishedAt': '2018-11-27T18:00:00Z',\n",
       "   'source': {'id': None, 'name': 'Chicagotribune.com'},\n",
       "   'title': 'How do the Bears stack up against the best of the NFC — the Saints and the Rams?',\n",
       "   'url': 'https://www.chicagotribune.com/sports/football/bears/ct-spt-nfl-week-12-bears-saints-rams-20181127-story.html',\n",
       "   'urlToImage': 'https://www.trbimg.com/img-5bfd821c/turbine/ct-spt-nfl-week-12-bears-saints-rams-20181127'},\n",
       "  {'author': 'newsfeeds@nzherald.co.nz',\n",
       "   'content': \"With the fantasy playoffs coming and the byes over, it's time for your waiver wire approach to change. No longer are you stashing players for future impact. If you have a chance at the playoffs, you know your established starters. Unless injuries strike, you … [+3878 chars]\",\n",
       "   'description': \"With the fantasy playoffs coming and the byes over, it's time for your waiver wire approach to change.No longer are you stashing players for future impact. If you have a chance at the playoffs, you know your established starters....\",\n",
       "   'publishedAt': '2018-11-27T22:51:34Z',\n",
       "   'source': {'id': None, 'name': 'Nzherald.co.nz'},\n",
       "   'title': 'FANTASY PLAYS: Time to handcuff your RBs for playoffs',\n",
       "   'url': 'https://www.nzherald.co.nz/sport/news/article.cfm?c_id=4&objectid=12167609',\n",
       "   'urlToImage': 'https://www.nzherald.co.nz/resources/assets/img/fallback-promo-image.png'},\n",
       "  {'author': None,\n",
       "   'content': 'Baltimore- 34 Oakland- 17 The matchup was surprisingly close early in the game as the Ravens led 13-10 at the half. Rookie QB Lamar Jackson made his second career start in place of the injured QB Joe Flacco but he didn’t run the ball nearly as much as he did … [+34451 chars]',\n",
       "   'description': 'Ryan McDowell recaps each game from the Week 12 NFL Sunday slate.',\n",
       "   'publishedAt': '2018-11-26T04:35:00Z',\n",
       "   'source': {'id': None, 'name': 'Rotoworld.com'},\n",
       "   'title': 'Football Daily Dose: Dose: Week 12 Review',\n",
       "   'url': 'http://rotoworld.com/articles/nfl/84268/77/dose-week-12-review',\n",
       "   'urlToImage': 'http://www.rotoworld.com/images/photos/NFL/CAR/00NFL_McCaffrey1_300.jpg'},\n",
       "  {'author': 'By SCOTT ENGEL RotoExperts',\n",
       "   'content': \"With the fantasy playoffs coming and the byes over, it's time for your waiver wire approach to change. No longer are you stashing players for future impact. If you have a chance at the playoffs, you know your established starters. Unless injuries strike, you … [+3874 chars]\",\n",
       "   'description': \"With the fantasy playoffs coming and the byes over, it's time for your waiver wire approach to change.\",\n",
       "   'publishedAt': '2018-11-27T22:31:01Z',\n",
       "   'source': {'id': 'associated-press', 'name': 'Associated Press'},\n",
       "   'title': 'FANTASY PLAYS: Time to handcuff your RBs for playoffs',\n",
       "   'url': 'https://apnews.com/7a4f6c0badf342408c7a09eb2e194c02',\n",
       "   'urlToImage': 'https://bloximages.newyork1.vip.townnews.com/stltoday.com/content/tncms/assets/v3/editorial/d/74/d74ddad6-3fe1-555d-a1cb-712f4a660c0b/5bfb1c0101331.image.jpg?crop=1720%2C968%2C0%2C118&resize=1120%2C630&order=crop%2Cresize'},\n",
       "  {'author': 'SCOTT ENGEL',\n",
       "   'content': \"With the fantasy playoffs coming and the byes over, it's time for your waiver wire approach to change. No longer are you stashing players for future impact. If you have a chance at the playoffs, you know your established starters. Unless injuries strike, you … [+3788 chars]\",\n",
       "   'description': \"With the fantasy playoffs coming and the byes over, it's time for your waiver wire approach to change.\",\n",
       "   'publishedAt': '2018-11-27T16:35:00Z',\n",
       "   'source': {'id': None, 'name': 'Startribune.com'},\n",
       "   'title': 'FANTASY PLAYS: Time to handcuff your RBs for playoffs',\n",
       "   'url': 'http://www.startribune.com/fantasy-plays-time-to-handcuff-your-rbs-for-playoffs/501384442/',\n",
       "   'urlToImage': 'http://assets.startribune.com/static/img/branding/logos/strib-social-card.png?d=1543262067'}],\n",
       " 'status': 'ok',\n",
       " 'totalResults': 18}"
      ]
     },
     "execution_count": 41,
     "metadata": {},
     "output_type": "execute_result"
    }
   ],
   "source": [
    "player_news_all.json()"
   ]
  },
  {
   "cell_type": "code",
   "execution_count": null,
   "metadata": {
    "collapsed": true
   },
   "outputs": [],
   "source": []
  }
 ],
 "metadata": {
  "kernelspec": {
   "display_name": "Python 3",
   "language": "python",
   "name": "python3"
  },
  "language_info": {
   "codemirror_mode": {
    "name": "ipython",
    "version": 3
   },
   "file_extension": ".py",
   "mimetype": "text/x-python",
   "name": "python",
   "nbconvert_exporter": "python",
   "pygments_lexer": "ipython3",
   "version": "3.6.1"
  }
 },
 "nbformat": 4,
 "nbformat_minor": 2
}
