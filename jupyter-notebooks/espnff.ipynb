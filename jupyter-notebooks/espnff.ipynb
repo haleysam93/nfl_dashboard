{
 "cells": [
  {
   "cell_type": "markdown",
   "metadata": {},
   "source": [
    "#### espnff github\n",
    "https://github.com/rbarton65/espnff\n",
    "\n",
    "Biggest issue is that it doesn't pull player data.  Looks like development has stopped on github.  Fork and contribute?\n",
    "\n",
    "#### implementation using requests\n",
    "https://stmorse.github.io/journal/espn-fantasy-python.html\n",
    "\n",
    "https://stmorse.github.io/journal/espn-fantasy-2-python.html\n",
    "\n",
    "https://stmorse.github.io/journal/espn-fantasy-3-python.html\n",
    "\n",
    "ESPN doesn't have documentation of their fantasy football api. Example articles "
   ]
  },
  {
   "cell_type": "code",
   "execution_count": 1,
   "metadata": {
    "collapsed": true
   },
   "outputs": [],
   "source": [
    "# ids\n",
    "#leagueId=272407&teamId=7&seasonId=2018\n",
    "league_id = 272407\n",
    "team_id = 7\n",
    "season_id = 2018\n",
    "# cookie stuff\n",
    "ESPN_S2 = 'AEB8MCwqbL2YwOYOMJbCQ%2FvSMWfN6i2gKF1xbs4un0rSGOvw56jI4qJHzW8EtFAQbvrl1sptUylSwrblE4SxWu52F9sK1b%2BWoy3n8hZ0PvsTVNLVdwxzq%2FBRnOUBIrw73Vf8fMEqTjiXHoTXHhSStT0HI0DcZZuqoS%2Bi%2B0BFQARnuWpRs239t3XmDgzXHdRyBOtKfYcQXYpq%2BuvtXQ%2FfAxxt3SBMboeHlQi0uK0U0hkIT4cVCZdQ8%2FOVZDFlQk3KIY29wbJstYYILjYS8wp5iuM9'\n",
    "ESPN_ATH = {\"swid\":\"{7ADF0B7F-2028-4279-9F0B-7F20284279EC}\"}\n",
    "SWID = '{7ADF0B7F-2028-4279-9F0B-7F20284279EC}'"
   ]
  },
  {
   "cell_type": "code",
   "execution_count": 2,
   "metadata": {},
   "outputs": [],
   "source": [
    "from espnff import League\n",
    "league = League(league_id, season_id, espn_s2=ESPN_S2, swid=SWID)"
   ]
  },
  {
   "cell_type": "code",
   "execution_count": 7,
   "metadata": {},
   "outputs": [
    {
     "data": {
      "text/plain": [
       "[Matchup(Team(Crooked Logans Colluders), Team(Sugar  Sugar)),\n",
       " Matchup(Team(Donnie Jones Bag O' Bones), Team(Drain the  Fantasy Swamp)),\n",
       " Matchup(Team(Charlottesville Challengers), Team(King Wentz of Wentzylvania)),\n",
       " Matchup(Team(Team Cavanaugh), Team(Tiny Dick Liv)),\n",
       " Matchup(Team(Thee Klaus), Team(Logans Fake ID))]"
      ]
     },
     "execution_count": 7,
     "metadata": {},
     "output_type": "execute_result"
    }
   ],
   "source": [
    "league.scoreboard()"
   ]
  },
  {
   "cell_type": "code",
   "execution_count": null,
   "metadata": {
    "collapsed": true
   },
   "outputs": [],
   "source": []
  }
 ],
 "metadata": {
  "kernelspec": {
   "display_name": "Python 3",
   "language": "python",
   "name": "python3"
  },
  "language_info": {
   "codemirror_mode": {
    "name": "ipython",
    "version": 3
   },
   "file_extension": ".py",
   "mimetype": "text/x-python",
   "name": "python",
   "nbconvert_exporter": "python",
   "pygments_lexer": "ipython3",
   "version": "3.6.1"
  }
 },
 "nbformat": 4,
 "nbformat_minor": 2
}
